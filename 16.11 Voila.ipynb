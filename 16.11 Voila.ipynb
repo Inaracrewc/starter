{
 "cells": [
  {
   "cell_type": "code",
   "execution_count": 13,
   "metadata": {
    "extensions": {
     "jupyter_dashboards": {
      "version": 1,
      "views": {
       "default_view": {
        "col": 0,
        "height": 2,
        "hidden": false,
        "row": 0,
        "width": 12
       }
      }
     }
    }
   },
   "outputs": [
    {
     "name": "stdout",
     "output_type": "stream",
     "text": [
      "Requirement already satisfied: gradient in /opt/conda/envs/fastai/lib/python3.8/site-packages (1.2.0)\n",
      "Requirement already satisfied: click>=7.0 in /opt/conda/envs/fastai/lib/python3.8/site-packages (from gradient) (7.1.2)\n",
      "Requirement already satisfied: marshmallow<3.0 in /opt/conda/envs/fastai/lib/python3.8/site-packages (from gradient) (2.21.0)\n",
      "Requirement already satisfied: websocket-client==0.57.* in /opt/conda/envs/fastai/lib/python3.8/site-packages (from gradient) (0.57.0)\n",
      "Requirement already satisfied: requests-toolbelt in /opt/conda/envs/fastai/lib/python3.8/site-packages (from gradient) (0.9.1)\n",
      "Requirement already satisfied: click-completion in /opt/conda/envs/fastai/lib/python3.8/site-packages (from gradient) (0.5.2)\n",
      "Requirement already satisfied: python-dateutil==2.* in /opt/conda/envs/fastai/lib/python3.8/site-packages (from gradient) (2.8.1)\n",
      "Requirement already satisfied: PyYAML==5.* in /opt/conda/envs/fastai/lib/python3.8/site-packages (from gradient) (5.3.1)\n",
      "Requirement already satisfied: requests[security] in /opt/conda/envs/fastai/lib/python3.8/site-packages (from gradient) (2.24.0)\n",
      "Requirement already satisfied: click-help-colors in /opt/conda/envs/fastai/lib/python3.8/site-packages (from gradient) (0.8)\n",
      "Requirement already satisfied: halo in /opt/conda/envs/fastai/lib/python3.8/site-packages (from gradient) (0.0.31)\n",
      "Requirement already satisfied: six in /opt/conda/envs/fastai/lib/python3.8/site-packages (from gradient) (1.15.0)\n",
      "Requirement already satisfied: terminaltables in /opt/conda/envs/fastai/lib/python3.8/site-packages (from gradient) (3.1.0)\n",
      "Requirement already satisfied: click-didyoumean in /opt/conda/envs/fastai/lib/python3.8/site-packages (from gradient) (0.0.3)\n",
      "Requirement already satisfied: colorama==0.4.3 in /opt/conda/envs/fastai/lib/python3.8/site-packages (from gradient) (0.4.3)\n",
      "Requirement already satisfied: attrs<=19 in /opt/conda/envs/fastai/lib/python3.8/site-packages (from gradient) (18.2.0)\n",
      "Requirement already satisfied: progressbar2 in /opt/conda/envs/fastai/lib/python3.8/site-packages (from gradient) (3.53.1)\n",
      "Requirement already satisfied: gradient-utils>=0.1.2 in /opt/conda/envs/fastai/lib/python3.8/site-packages (from gradient) (0.3.0)\n",
      "Requirement already satisfied: shellingham in /opt/conda/envs/fastai/lib/python3.8/site-packages (from click-completion->gradient) (1.3.2)\n",
      "Requirement already satisfied: jinja2 in /opt/conda/envs/fastai/lib/python3.8/site-packages (from click-completion->gradient) (2.11.2)\n",
      "Requirement already satisfied: chardet<4,>=3.0.2 in /opt/conda/envs/fastai/lib/python3.8/site-packages (from requests[security]->gradient) (3.0.4)\n",
      "Requirement already satisfied: idna<3,>=2.5 in /opt/conda/envs/fastai/lib/python3.8/site-packages (from requests[security]->gradient) (2.10)\n",
      "Requirement already satisfied: urllib3!=1.25.0,!=1.25.1,<1.26,>=1.21.1 in /opt/conda/envs/fastai/lib/python3.8/site-packages (from requests[security]->gradient) (1.25.10)\n",
      "Requirement already satisfied: certifi>=2017.4.17 in /opt/conda/envs/fastai/lib/python3.8/site-packages (from requests[security]->gradient) (2020.6.20)\n",
      "Requirement already satisfied: cryptography>=1.3.4; extra == \"security\" in /opt/conda/envs/fastai/lib/python3.8/site-packages (from requests[security]->gradient) (3.0)\n",
      "Requirement already satisfied: pyOpenSSL>=0.14; extra == \"security\" in /opt/conda/envs/fastai/lib/python3.8/site-packages (from requests[security]->gradient) (19.1.0)\n",
      "Requirement already satisfied: log-symbols>=0.0.14 in /opt/conda/envs/fastai/lib/python3.8/site-packages (from halo->gradient) (0.0.14)\n",
      "Requirement already satisfied: termcolor>=1.1.0 in /opt/conda/envs/fastai/lib/python3.8/site-packages (from halo->gradient) (1.1.0)\n",
      "Requirement already satisfied: spinners>=0.0.24 in /opt/conda/envs/fastai/lib/python3.8/site-packages (from halo->gradient) (0.0.24)\n",
      "Requirement already satisfied: python-utils>=2.3.0 in /opt/conda/envs/fastai/lib/python3.8/site-packages (from progressbar2->gradient) (2.4.0)\n",
      "Requirement already satisfied: numpy<2.0.0,>=1.19.4 in /opt/conda/envs/fastai/lib/python3.8/site-packages (from gradient-utils>=0.1.2->gradient) (1.19.4)\n",
      "Requirement already satisfied: prometheus-client<0.9.0,>=0.8.0 in /opt/conda/envs/fastai/lib/python3.8/site-packages (from gradient-utils>=0.1.2->gradient) (0.8.0)\n",
      "Requirement already satisfied: pymongo<4.0.0,>=3.11.0 in /opt/conda/envs/fastai/lib/python3.8/site-packages (from gradient-utils>=0.1.2->gradient) (3.11.0)\n",
      "Requirement already satisfied: wheel<0.36.0,>=0.35.1 in /opt/conda/envs/fastai/lib/python3.8/site-packages (from gradient-utils>=0.1.2->gradient) (0.35.1)\n",
      "Requirement already satisfied: hyperopt<0.3.0,>=0.2.5 in /opt/conda/envs/fastai/lib/python3.8/site-packages (from gradient-utils>=0.1.2->gradient) (0.2.5)\n",
      "Requirement already satisfied: MarkupSafe>=0.23 in /opt/conda/envs/fastai/lib/python3.8/site-packages (from jinja2->click-completion->gradient) (1.1.1)\n",
      "Requirement already satisfied: cffi!=1.11.3,>=1.8 in /opt/conda/envs/fastai/lib/python3.8/site-packages (from cryptography>=1.3.4; extra == \"security\"->requests[security]->gradient) (1.14.1)\n",
      "Requirement already satisfied: scipy in /opt/conda/envs/fastai/lib/python3.8/site-packages (from hyperopt<0.3.0,>=0.2.5->gradient-utils>=0.1.2->gradient) (1.5.2)\n",
      "Requirement already satisfied: cloudpickle in /opt/conda/envs/fastai/lib/python3.8/site-packages (from hyperopt<0.3.0,>=0.2.5->gradient-utils>=0.1.2->gradient) (1.6.0)\n",
      "Requirement already satisfied: future in /opt/conda/envs/fastai/lib/python3.8/site-packages (from hyperopt<0.3.0,>=0.2.5->gradient-utils>=0.1.2->gradient) (0.18.2)\n",
      "Requirement already satisfied: tqdm in /opt/conda/envs/fastai/lib/python3.8/site-packages (from hyperopt<0.3.0,>=0.2.5->gradient-utils>=0.1.2->gradient) (4.48.2)\n",
      "Requirement already satisfied: networkx>=2.2 in /opt/conda/envs/fastai/lib/python3.8/site-packages (from hyperopt<0.3.0,>=0.2.5->gradient-utils>=0.1.2->gradient) (2.5)\n",
      "Requirement already satisfied: pycparser in /opt/conda/envs/fastai/lib/python3.8/site-packages (from cffi!=1.11.3,>=1.8->cryptography>=1.3.4; extra == \"security\"->requests[security]->gradient) (2.20)\n",
      "Requirement already satisfied: decorator>=4.3.0 in /opt/conda/envs/fastai/lib/python3.8/site-packages (from networkx>=2.2->hyperopt<0.3.0,>=0.2.5->gradient-utils>=0.1.2->gradient) (4.4.2)\n"
     ]
    }
   ],
   "source": [
    "!pip install gradient"
   ]
  },
  {
   "cell_type": "code",
   "execution_count": 14,
   "metadata": {
    "extensions": {
     "jupyter_dashboards": {
      "version": 1,
      "views": {
       "default_view": {
        "hidden": true
       }
      }
     }
    }
   },
   "outputs": [],
   "source": [
    "from gradient import sdk_client, ProjectsClient"
   ]
  },
  {
   "cell_type": "code",
   "execution_count": 15,
   "metadata": {
    "extensions": {
     "jupyter_dashboards": {
      "version": 1,
      "views": {
       "default_view": {
        "col": 0,
        "height": 2,
        "hidden": false,
        "row": 2,
        "width": 12
       }
      }
     }
    }
   },
   "outputs": [],
   "source": [
    "from fastai.vision.all import *\n",
    "from fastai.vision.widgets import *"
   ]
  },
  {
   "cell_type": "code",
   "execution_count": 16,
   "metadata": {
    "extensions": {
     "jupyter_dashboards": {
      "version": 1,
      "views": {
       "default_view": {
        "hidden": true
       }
      }
     }
    }
   },
   "outputs": [],
   "source": [
    "#!pip install ipywidgets\n",
    "#from ipywidgets import *"
   ]
  },
  {
   "cell_type": "code",
   "execution_count": 17,
   "metadata": {
    "extensions": {
     "jupyter_dashboards": {
      "version": 1,
      "views": {
       "default_view": {
        "col": 0,
        "height": 2,
        "hidden": false,
        "row": 4,
        "width": 12
       }
      }
     }
    }
   },
   "outputs": [],
   "source": [
    "path = Path()\n",
    "learn_inf = load_learner(path/'/storage/data/export.pkl', cpu=True)"
   ]
  },
  {
   "cell_type": "code",
   "execution_count": 18,
   "metadata": {
    "extensions": {
     "jupyter_dashboards": {
      "version": 1,
      "views": {
       "default_view": {
        "col": 0,
        "height": 2,
        "hidden": false,
        "row": 6,
        "width": 12
       }
      }
     }
    }
   },
   "outputs": [
    {
     "data": {
      "application/vnd.jupyter.widget-view+json": {
       "model_id": "48bca7e036044ee6b85a3315914b4ff1",
       "version_major": 2,
       "version_minor": 0
      },
      "text/plain": [
       "Label(value='')"
      ]
     },
     "metadata": {},
     "output_type": "display_data"
    }
   ],
   "source": [
    "btn_upload = widgets.FileUpload()\n",
    "out_pl = widgets.Output()\n",
    "out_pl\n",
    "lbl_pred = widgets.Label()\n",
    "lbl_pred\n"
   ]
  },
  {
   "cell_type": "code",
   "execution_count": 19,
   "metadata": {
    "extensions": {
     "jupyter_dashboards": {
      "version": 1,
      "views": {
       "default_view": {
        "hidden": true
       }
      }
     }
    }
   },
   "outputs": [],
   "source": [
    "btn_run = widgets.Button(description='Give me the answer')"
   ]
  },
  {
   "cell_type": "code",
   "execution_count": 20,
   "metadata": {
    "extensions": {
     "jupyter_dashboards": {
      "version": 1,
      "views": {
       "default_view": {
        "col": 0,
        "height": 2,
        "hidden": false,
        "row": 8,
        "width": 12
       }
      }
     }
    }
   },
   "outputs": [],
   "source": [
    "btn_run\n",
    "btn_upload = widgets.FileUpload()"
   ]
  },
  {
   "cell_type": "code",
   "execution_count": 21,
   "metadata": {
    "extensions": {
     "jupyter_dashboards": {
      "version": 1,
      "views": {
       "default_view": {
        "hidden": true
       }
      }
     }
    }
   },
   "outputs": [],
   "source": [
    "def on_click_classify(change):\n",
    "    img = PILImage.create(btn_upload.data[-1])\n",
    "    out_pl.clear_output()\n",
    "    with out_pl: display(img.to_thumb(128,128))\n",
    "    pred,pred_idx,probs = learn_inf.predict(img)\n",
    "    lbl_pred.value = f'Prediction: {pred}; Probability: {probs[pred_idx]:.04f}'\n",
    "btn_run.on_click(on_click_classify)\n"
   ]
  },
  {
   "cell_type": "code",
   "execution_count": 22,
   "metadata": {
    "extensions": {
     "jupyter_dashboards": {
      "version": 1,
      "views": {
       "default_view": {
        "col": 0,
        "height": 2,
        "hidden": false,
        "row": 10,
        "width": 12
       }
      }
     }
    }
   },
   "outputs": [
    {
     "data": {
      "application/vnd.jupyter.widget-view+json": {
       "model_id": "6970ba4f74ce4062ba1be63f26cd5754",
       "version_major": 2,
       "version_minor": 0
      },
      "text/plain": [
       "VBox(children=(Label(value='What is this monster-machine?'), FileUpload(value={}, description='Upload'), Butto…"
      ]
     },
     "metadata": {},
     "output_type": "display_data"
    }
   ],
   "source": [
    "display(VBox([widgets.Label('What is this monster-machine?'), btn_upload, btn_run, out_pl, lbl_pred]))\n"
   ]
  },
  {
   "cell_type": "code",
   "execution_count": 23,
   "metadata": {
    "extensions": {
     "jupyter_dashboards": {
      "version": 1,
      "views": {
       "default_view": {
        "hidden": true
       }
      }
     }
    }
   },
   "outputs": [],
   "source": [
    "btn_run.on_click(on_click_classify)"
   ]
  },
  {
   "cell_type": "code",
   "execution_count": 24,
   "metadata": {
    "extensions": {
     "jupyter_dashboards": {
      "version": 1,
      "views": {
       "default_view": {
        "col": 0,
        "height": 2,
        "hidden": false,
        "row": 12,
        "width": 12
       }
      }
     }
    }
   },
   "outputs": [
    {
     "name": "stdout",
     "output_type": "stream",
     "text": [
      "Requirement already satisfied: voila in /opt/conda/envs/fastai/lib/python3.8/site-packages (0.2.4)\n",
      "Requirement already satisfied: jupyter-server<2.0.0,>=0.3.0 in /opt/conda/envs/fastai/lib/python3.8/site-packages (from voila) (1.0.5)\n",
      "Requirement already satisfied: jupyter-client<7,>=6.1.3 in /opt/conda/envs/fastai/lib/python3.8/site-packages (from voila) (6.1.6)\n",
      "Requirement already satisfied: nbclient<0.6,>=0.4.0 in /opt/conda/envs/fastai/lib/python3.8/site-packages (from voila) (0.5.1)\n",
      "Requirement already satisfied: nbconvert<7,>=6.0.0 in /opt/conda/envs/fastai/lib/python3.8/site-packages (from voila) (6.0.6)\n",
      "Requirement already satisfied: nbformat in /opt/conda/envs/fastai/lib/python3.8/site-packages (from jupyter-server<2.0.0,>=0.3.0->voila) (5.0.7)\n",
      "Requirement already satisfied: traitlets>=4.2.1 in /opt/conda/envs/fastai/lib/python3.8/site-packages (from jupyter-server<2.0.0,>=0.3.0->voila) (4.3.3)\n",
      "Requirement already satisfied: Send2Trash in /opt/conda/envs/fastai/lib/python3.8/site-packages (from jupyter-server<2.0.0,>=0.3.0->voila) (1.5.0)\n",
      "Requirement already satisfied: prometheus-client in /opt/conda/envs/fastai/lib/python3.8/site-packages (from jupyter-server<2.0.0,>=0.3.0->voila) (0.8.0)\n",
      "Requirement already satisfied: jinja2 in /opt/conda/envs/fastai/lib/python3.8/site-packages (from jupyter-server<2.0.0,>=0.3.0->voila) (2.11.2)\n",
      "Requirement already satisfied: terminado>=0.8.3 in /opt/conda/envs/fastai/lib/python3.8/site-packages (from jupyter-server<2.0.0,>=0.3.0->voila) (0.8.3)\n",
      "Requirement already satisfied: ipython-genutils in /opt/conda/envs/fastai/lib/python3.8/site-packages (from jupyter-server<2.0.0,>=0.3.0->voila) (0.2.0)\n",
      "Requirement already satisfied: tornado>=5.0 in /opt/conda/envs/fastai/lib/python3.8/site-packages (from jupyter-server<2.0.0,>=0.3.0->voila) (6.0.4)\n",
      "Requirement already satisfied: jupyter-core>=4.4.0 in /opt/conda/envs/fastai/lib/python3.8/site-packages (from jupyter-server<2.0.0,>=0.3.0->voila) (4.6.3)\n",
      "Requirement already satisfied: pyzmq>=17 in /opt/conda/envs/fastai/lib/python3.8/site-packages (from jupyter-server<2.0.0,>=0.3.0->voila) (19.0.2)\n",
      "Requirement already satisfied: python-dateutil>=2.1 in /opt/conda/envs/fastai/lib/python3.8/site-packages (from jupyter-client<7,>=6.1.3->voila) (2.8.1)\n",
      "Requirement already satisfied: nest-asyncio in /opt/conda/envs/fastai/lib/python3.8/site-packages (from nbclient<0.6,>=0.4.0->voila) (1.4.3)\n",
      "Requirement already satisfied: async-generator in /opt/conda/envs/fastai/lib/python3.8/site-packages (from nbclient<0.6,>=0.4.0->voila) (1.10)\n",
      "Requirement already satisfied: jupyterlab-pygments in /opt/conda/envs/fastai/lib/python3.8/site-packages (from nbconvert<7,>=6.0.0->voila) (0.1.2)\n",
      "Requirement already satisfied: defusedxml in /opt/conda/envs/fastai/lib/python3.8/site-packages (from nbconvert<7,>=6.0.0->voila) (0.6.0)\n",
      "Requirement already satisfied: entrypoints>=0.2.2 in /opt/conda/envs/fastai/lib/python3.8/site-packages (from nbconvert<7,>=6.0.0->voila) (0.3)\n",
      "Requirement already satisfied: pandocfilters>=1.4.1 in /opt/conda/envs/fastai/lib/python3.8/site-packages (from nbconvert<7,>=6.0.0->voila) (1.4.2)\n",
      "Requirement already satisfied: testpath in /opt/conda/envs/fastai/lib/python3.8/site-packages (from nbconvert<7,>=6.0.0->voila) (0.4.4)\n",
      "Requirement already satisfied: pygments>=2.4.1 in /opt/conda/envs/fastai/lib/python3.8/site-packages (from nbconvert<7,>=6.0.0->voila) (2.6.1)\n",
      "Requirement already satisfied: mistune<2,>=0.8.1 in /opt/conda/envs/fastai/lib/python3.8/site-packages (from nbconvert<7,>=6.0.0->voila) (0.8.4)\n",
      "Requirement already satisfied: bleach in /opt/conda/envs/fastai/lib/python3.8/site-packages (from nbconvert<7,>=6.0.0->voila) (3.1.5)\n",
      "Requirement already satisfied: jsonschema!=2.5.0,>=2.4 in /opt/conda/envs/fastai/lib/python3.8/site-packages (from nbformat->jupyter-server<2.0.0,>=0.3.0->voila) (3.2.0)\n",
      "Requirement already satisfied: decorator in /opt/conda/envs/fastai/lib/python3.8/site-packages (from traitlets>=4.2.1->jupyter-server<2.0.0,>=0.3.0->voila) (4.4.2)\n",
      "Requirement already satisfied: six in /opt/conda/envs/fastai/lib/python3.8/site-packages (from traitlets>=4.2.1->jupyter-server<2.0.0,>=0.3.0->voila) (1.15.0)\n",
      "Requirement already satisfied: MarkupSafe>=0.23 in /opt/conda/envs/fastai/lib/python3.8/site-packages (from jinja2->jupyter-server<2.0.0,>=0.3.0->voila) (1.1.1)\n",
      "Requirement already satisfied: packaging in /opt/conda/envs/fastai/lib/python3.8/site-packages (from bleach->nbconvert<7,>=6.0.0->voila) (20.4)\n",
      "Requirement already satisfied: webencodings in /opt/conda/envs/fastai/lib/python3.8/site-packages (from bleach->nbconvert<7,>=6.0.0->voila) (0.5.1)\n",
      "Requirement already satisfied: pyrsistent>=0.14.0 in /opt/conda/envs/fastai/lib/python3.8/site-packages (from jsonschema!=2.5.0,>=2.4->nbformat->jupyter-server<2.0.0,>=0.3.0->voila) (0.16.0)\n",
      "Requirement already satisfied: attrs>=17.4.0 in /opt/conda/envs/fastai/lib/python3.8/site-packages (from jsonschema!=2.5.0,>=2.4->nbformat->jupyter-server<2.0.0,>=0.3.0->voila) (18.2.0)\n",
      "Requirement already satisfied: setuptools in /opt/conda/envs/fastai/lib/python3.8/site-packages (from jsonschema!=2.5.0,>=2.4->nbformat->jupyter-server<2.0.0,>=0.3.0->voila) (49.6.0.post20200814)\n",
      "Requirement already satisfied: pyparsing>=2.0.2 in /opt/conda/envs/fastai/lib/python3.8/site-packages (from packaging->bleach->nbconvert<7,>=6.0.0->voila) (2.4.7)\n",
      "Enabling: voila\n",
      "- Writing config: /root/.jupyter\n",
      "    - Validating...\n",
      "      voila 0.2.4 \u001b[32mOK\u001b[0m\n",
      "Enabling: —sys-prefix\n",
      "- Writing config: /root/.jupyter\n",
      "    - Validating...\n",
      "Error loading server extension —sys-prefix\n",
      "     \u001b[31m X\u001b[0m is —sys-prefix importable?\n"
     ]
    }
   ],
   "source": [
    "!pip install voila\n",
    "!jupyter serverextension enable voila —sys-prefix"
   ]
  }
 ],
 "metadata": {
  "extensions": {
   "jupyter_dashboards": {
    "activeView": "default_view",
    "version": 1,
    "views": {
     "default_view": {
      "cellMargin": 10,
      "defaultCellHeight": 40,
      "maxColumns": 12,
      "name": "active_view",
      "type": "grid"
     }
    }
   }
  },
  "kernelspec": {
   "display_name": "Python 3",
   "language": "python",
   "name": "python3"
  },
  "language_info": {
   "codemirror_mode": {
    "name": "ipython",
    "version": 3
   },
   "file_extension": ".py",
   "mimetype": "text/x-python",
   "name": "python",
   "nbconvert_exporter": "python",
   "pygments_lexer": "ipython3",
   "version": "3.8.5"
  }
 },
 "nbformat": 4,
 "nbformat_minor": 4
}
