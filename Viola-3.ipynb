{
  "nbformat": 4,
  "nbformat_minor": 0,
  "metadata": {
    "colab": {
      "name": "Viola.ipynb",
      "provenance": [],
      "collapsed_sections": []
    },
    "kernelspec": {
      "name": "python3",
      "display_name": "Python 3"
    },
    "widgets": {
      "application/vnd.jupyter.widget-state+json": {
        "ba3ff9c41c754e7baad0af0e235b2c7b": {
          "model_module": "@jupyter-widgets/controls",
          "model_name": "VBoxModel",
          "state": {
            "_view_name": "VBoxView",
            "_dom_classes": [],
            "_model_name": "VBoxModel",
            "_view_module": "@jupyter-widgets/controls",
            "_model_module_version": "1.5.0",
            "_view_count": null,
            "_view_module_version": "1.5.0",
            "box_style": "",
            "layout": "IPY_MODEL_dbcc8cd2385d4fd795d504b92d838b6d",
            "_model_module": "@jupyter-widgets/controls",
            "children": [
              "IPY_MODEL_b7c61c895a5c497994eda178ec63f40b",
              "IPY_MODEL_b4db14120ca44dc88b6bf24bd214dd0f",
              "IPY_MODEL_1a81ef2bea99491d9f1e5be6eea538ff",
              "IPY_MODEL_f2a1d21a12bd4304af0a398aebca8cd2"
            ]
          }
        },
        "dbcc8cd2385d4fd795d504b92d838b6d": {
          "model_module": "@jupyter-widgets/base",
          "model_name": "LayoutModel",
          "state": {
            "_view_name": "LayoutView",
            "grid_template_rows": null,
            "right": null,
            "justify_content": null,
            "_view_module": "@jupyter-widgets/base",
            "overflow": null,
            "_model_module_version": "1.2.0",
            "_view_count": null,
            "flex_flow": null,
            "width": null,
            "min_width": null,
            "border": null,
            "align_items": null,
            "bottom": null,
            "_model_module": "@jupyter-widgets/base",
            "top": null,
            "grid_column": null,
            "overflow_y": null,
            "overflow_x": null,
            "grid_auto_flow": null,
            "grid_area": null,
            "grid_template_columns": null,
            "flex": null,
            "_model_name": "LayoutModel",
            "justify_items": null,
            "grid_row": null,
            "max_height": null,
            "align_content": null,
            "visibility": null,
            "align_self": null,
            "height": null,
            "min_height": null,
            "padding": null,
            "grid_auto_rows": null,
            "grid_gap": null,
            "max_width": null,
            "order": null,
            "_view_module_version": "1.2.0",
            "grid_template_areas": null,
            "object_position": null,
            "object_fit": null,
            "grid_auto_columns": null,
            "margin": null,
            "display": null,
            "left": null
          }
        },
        "b7c61c895a5c497994eda178ec63f40b": {
          "model_module": "@jupyter-widgets/controls",
          "model_name": "LabelModel",
          "state": {
            "_view_name": "LabelView",
            "style": "IPY_MODEL_ddd486b9d7a2497e93e07860b0b7d655",
            "_dom_classes": [],
            "description": "",
            "_model_name": "LabelModel",
            "placeholder": "​",
            "_view_module": "@jupyter-widgets/controls",
            "_model_module_version": "1.5.0",
            "value": "Check if it is starter!",
            "_view_count": null,
            "_view_module_version": "1.5.0",
            "description_tooltip": null,
            "_model_module": "@jupyter-widgets/controls",
            "layout": "IPY_MODEL_0bae0be2ff704dbe923cdb4752c05d3e"
          }
        },
        "b4db14120ca44dc88b6bf24bd214dd0f": {
          "model_module": "@jupyter-widgets/controls",
          "model_name": "FileUploadModel",
          "state": {
            "_view_name": "FileUploadView",
            "_counter": 1,
            "style": "IPY_MODEL_82e29d1e8da14ef6b686bad8435187fd",
            "_dom_classes": [],
            "description": "Upload",
            "multiple": false,
            "_model_name": "FileUploadModel",
            "data": [
              null
            ],
            "button_style": "",
            "_view_module": "@jupyter-widgets/controls",
            "_model_module_version": "1.5.0",
            "accept": "",
            "_view_count": null,
            "disabled": false,
            "_view_module_version": "1.5.0",
            "error": "",
            "description_tooltip": null,
            "metadata": [
              {
                "name": "5_starters.jpg",
                "type": "image/jpeg",
                "size": 2127355,
                "lastModified": 1594815092000
              }
            ],
            "_model_module": "@jupyter-widgets/controls",
            "layout": "IPY_MODEL_7291f557601146ad919f6ab41e27617f",
            "icon": "upload"
          }
        },
        "1a81ef2bea99491d9f1e5be6eea538ff": {
          "model_module": "@jupyter-widgets/output",
          "model_name": "OutputModel",
          "state": {
            "_view_name": "OutputView",
            "msg_id": "",
            "_dom_classes": [],
            "_model_name": "OutputModel",
            "outputs": [
              {
                "output_type": "display_data",
                "metadata": {
                  "tags": []
                },
                "image/png": "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\n",
                "text/plain": "<PIL.Image.Image image mode=RGB size=128x128 at 0x7F24B71506A0>"
              }
            ],
            "_view_module": "@jupyter-widgets/output",
            "_model_module_version": "1.0.0",
            "_view_count": null,
            "_view_module_version": "1.0.0",
            "layout": "IPY_MODEL_4ba5a0096c5c4b489e4e310f6b49977a",
            "_model_module": "@jupyter-widgets/output"
          }
        },
        "f2a1d21a12bd4304af0a398aebca8cd2": {
          "model_module": "@jupyter-widgets/controls",
          "model_name": "LabelModel",
          "state": {
            "_view_name": "LabelView",
            "style": "IPY_MODEL_090396c48c794190b41d74c6c25fb52d",
            "_dom_classes": [],
            "description": "",
            "_model_name": "LabelModel",
            "placeholder": "​",
            "_view_module": "@jupyter-widgets/controls",
            "_model_module_version": "1.5.0",
            "value": "Prediction: starters; Probability: 0.9986",
            "_view_count": null,
            "_view_module_version": "1.5.0",
            "description_tooltip": null,
            "_model_module": "@jupyter-widgets/controls",
            "layout": "IPY_MODEL_8a10e5224d3148dca82f46ca311ca609"
          }
        },
        "ddd486b9d7a2497e93e07860b0b7d655": {
          "model_module": "@jupyter-widgets/controls",
          "model_name": "DescriptionStyleModel",
          "state": {
            "_view_name": "StyleView",
            "_model_name": "DescriptionStyleModel",
            "description_width": "",
            "_view_module": "@jupyter-widgets/base",
            "_model_module_version": "1.5.0",
            "_view_count": null,
            "_view_module_version": "1.2.0",
            "_model_module": "@jupyter-widgets/controls"
          }
        },
        "0bae0be2ff704dbe923cdb4752c05d3e": {
          "model_module": "@jupyter-widgets/base",
          "model_name": "LayoutModel",
          "state": {
            "_view_name": "LayoutView",
            "grid_template_rows": null,
            "right": null,
            "justify_content": null,
            "_view_module": "@jupyter-widgets/base",
            "overflow": null,
            "_model_module_version": "1.2.0",
            "_view_count": null,
            "flex_flow": null,
            "width": null,
            "min_width": null,
            "border": null,
            "align_items": null,
            "bottom": null,
            "_model_module": "@jupyter-widgets/base",
            "top": null,
            "grid_column": null,
            "overflow_y": null,
            "overflow_x": null,
            "grid_auto_flow": null,
            "grid_area": null,
            "grid_template_columns": null,
            "flex": null,
            "_model_name": "LayoutModel",
            "justify_items": null,
            "grid_row": null,
            "max_height": null,
            "align_content": null,
            "visibility": null,
            "align_self": null,
            "height": null,
            "min_height": null,
            "padding": null,
            "grid_auto_rows": null,
            "grid_gap": null,
            "max_width": null,
            "order": null,
            "_view_module_version": "1.2.0",
            "grid_template_areas": null,
            "object_position": null,
            "object_fit": null,
            "grid_auto_columns": null,
            "margin": null,
            "display": null,
            "left": null
          }
        },
        "82e29d1e8da14ef6b686bad8435187fd": {
          "model_module": "@jupyter-widgets/controls",
          "model_name": "ButtonStyleModel",
          "state": {
            "_view_name": "StyleView",
            "_model_name": "ButtonStyleModel",
            "_view_module": "@jupyter-widgets/base",
            "_model_module_version": "1.5.0",
            "_view_count": null,
            "button_color": null,
            "font_weight": "",
            "_view_module_version": "1.2.0",
            "_model_module": "@jupyter-widgets/controls"
          }
        },
        "7291f557601146ad919f6ab41e27617f": {
          "model_module": "@jupyter-widgets/base",
          "model_name": "LayoutModel",
          "state": {
            "_view_name": "LayoutView",
            "grid_template_rows": null,
            "right": null,
            "justify_content": null,
            "_view_module": "@jupyter-widgets/base",
            "overflow": null,
            "_model_module_version": "1.2.0",
            "_view_count": null,
            "flex_flow": null,
            "width": null,
            "min_width": null,
            "border": null,
            "align_items": null,
            "bottom": null,
            "_model_module": "@jupyter-widgets/base",
            "top": null,
            "grid_column": null,
            "overflow_y": null,
            "overflow_x": null,
            "grid_auto_flow": null,
            "grid_area": null,
            "grid_template_columns": null,
            "flex": null,
            "_model_name": "LayoutModel",
            "justify_items": null,
            "grid_row": null,
            "max_height": null,
            "align_content": null,
            "visibility": null,
            "align_self": null,
            "height": null,
            "min_height": null,
            "padding": null,
            "grid_auto_rows": null,
            "grid_gap": null,
            "max_width": null,
            "order": null,
            "_view_module_version": "1.2.0",
            "grid_template_areas": null,
            "object_position": null,
            "object_fit": null,
            "grid_auto_columns": null,
            "margin": null,
            "display": null,
            "left": null
          }
        },
        "090396c48c794190b41d74c6c25fb52d": {
          "model_module": "@jupyter-widgets/controls",
          "model_name": "DescriptionStyleModel",
          "state": {
            "_view_name": "StyleView",
            "_model_name": "DescriptionStyleModel",
            "description_width": "",
            "_view_module": "@jupyter-widgets/base",
            "_model_module_version": "1.5.0",
            "_view_count": null,
            "_view_module_version": "1.2.0",
            "_model_module": "@jupyter-widgets/controls"
          }
        },
        "8a10e5224d3148dca82f46ca311ca609": {
          "model_module": "@jupyter-widgets/base",
          "model_name": "LayoutModel",
          "state": {
            "_view_name": "LayoutView",
            "grid_template_rows": null,
            "right": null,
            "justify_content": null,
            "_view_module": "@jupyter-widgets/base",
            "overflow": null,
            "_model_module_version": "1.2.0",
            "_view_count": null,
            "flex_flow": null,
            "width": null,
            "min_width": null,
            "border": null,
            "align_items": null,
            "bottom": null,
            "_model_module": "@jupyter-widgets/base",
            "top": null,
            "grid_column": null,
            "overflow_y": null,
            "overflow_x": null,
            "grid_auto_flow": null,
            "grid_area": null,
            "grid_template_columns": null,
            "flex": null,
            "_model_name": "LayoutModel",
            "justify_items": null,
            "grid_row": null,
            "max_height": null,
            "align_content": null,
            "visibility": null,
            "align_self": null,
            "height": null,
            "min_height": null,
            "padding": null,
            "grid_auto_rows": null,
            "grid_gap": null,
            "max_width": null,
            "order": null,
            "_view_module_version": "1.2.0",
            "grid_template_areas": null,
            "object_position": null,
            "object_fit": null,
            "grid_auto_columns": null,
            "margin": null,
            "display": null,
            "left": null
          }
        },
        "4ba5a0096c5c4b489e4e310f6b49977a": {
          "model_module": "@jupyter-widgets/base",
          "model_name": "LayoutModel",
          "state": {
            "_view_name": "LayoutView",
            "grid_template_rows": null,
            "right": null,
            "justify_content": null,
            "_view_module": "@jupyter-widgets/base",
            "overflow": null,
            "_model_module_version": "1.2.0",
            "_view_count": null,
            "flex_flow": null,
            "width": null,
            "min_width": null,
            "border": null,
            "align_items": null,
            "bottom": null,
            "_model_module": "@jupyter-widgets/base",
            "top": null,
            "grid_column": null,
            "overflow_y": null,
            "overflow_x": null,
            "grid_auto_flow": null,
            "grid_area": null,
            "grid_template_columns": null,
            "flex": null,
            "_model_name": "LayoutModel",
            "justify_items": null,
            "grid_row": null,
            "max_height": null,
            "align_content": null,
            "visibility": null,
            "align_self": null,
            "height": null,
            "min_height": null,
            "padding": null,
            "grid_auto_rows": null,
            "grid_gap": null,
            "max_width": null,
            "order": null,
            "_view_module_version": "1.2.0",
            "grid_template_areas": null,
            "object_position": null,
            "object_fit": null,
            "grid_auto_columns": null,
            "margin": null,
            "display": null,
            "left": null
          }
        },
        "8b8947b126264717afda364726a53da6": {
          "model_module": "@jupyter-widgets/controls",
          "model_name": "ButtonModel",
          "state": {
            "_view_name": "ButtonView",
            "style": "IPY_MODEL_e659ab5f068d4113b8ca3956fb1104fc",
            "_dom_classes": [],
            "description": "Classify",
            "_model_name": "ButtonModel",
            "button_style": "",
            "_view_module": "@jupyter-widgets/controls",
            "_model_module_version": "1.5.0",
            "tooltip": "",
            "_view_count": null,
            "disabled": false,
            "_view_module_version": "1.5.0",
            "layout": "IPY_MODEL_5c1172d6181946cf8d587276dd7c813c",
            "_model_module": "@jupyter-widgets/controls",
            "icon": ""
          }
        },
        "e659ab5f068d4113b8ca3956fb1104fc": {
          "model_module": "@jupyter-widgets/controls",
          "model_name": "ButtonStyleModel",
          "state": {
            "_view_name": "StyleView",
            "_model_name": "ButtonStyleModel",
            "_view_module": "@jupyter-widgets/base",
            "_model_module_version": "1.5.0",
            "_view_count": null,
            "button_color": null,
            "font_weight": "",
            "_view_module_version": "1.2.0",
            "_model_module": "@jupyter-widgets/controls"
          }
        },
        "5c1172d6181946cf8d587276dd7c813c": {
          "model_module": "@jupyter-widgets/base",
          "model_name": "LayoutModel",
          "state": {
            "_view_name": "LayoutView",
            "grid_template_rows": null,
            "right": null,
            "justify_content": null,
            "_view_module": "@jupyter-widgets/base",
            "overflow": null,
            "_model_module_version": "1.2.0",
            "_view_count": null,
            "flex_flow": null,
            "width": null,
            "min_width": null,
            "border": null,
            "align_items": null,
            "bottom": null,
            "_model_module": "@jupyter-widgets/base",
            "top": null,
            "grid_column": null,
            "overflow_y": null,
            "overflow_x": null,
            "grid_auto_flow": null,
            "grid_area": null,
            "grid_template_columns": null,
            "flex": null,
            "_model_name": "LayoutModel",
            "justify_items": null,
            "grid_row": null,
            "max_height": null,
            "align_content": null,
            "visibility": null,
            "align_self": null,
            "height": null,
            "min_height": null,
            "padding": null,
            "grid_auto_rows": null,
            "grid_gap": null,
            "max_width": null,
            "order": null,
            "_view_module_version": "1.2.0",
            "grid_template_areas": null,
            "object_position": null,
            "object_fit": null,
            "grid_auto_columns": null,
            "margin": null,
            "display": null,
            "left": null
          }
        }
      }
    }
  },
  "cells": [
    {
      "cell_type": "code",
      "metadata": {
        "id": "fFGh7P4ryk8C",
        "outputId": "9b694c31-447b-45c0-bc98-691c4797fd3d",
        "colab": {
          "base_uri": "https://localhost:8080/"
        }
      },
      "source": [
        "!pip install -Uqq fastbook\n",
        "!pip install fastai --upgrade --use-feature=2020-resolver\n",
        "import fastbook\n",
        "fastbook.setup_book() "
      ],
      "execution_count": 2,
      "outputs": [
        {
          "output_type": "stream",
          "text": [
            "\u001b[K     |████████████████████████████████| 727kB 5.6MB/s \n",
            "\u001b[K     |████████████████████████████████| 1.1MB 18.5MB/s \n",
            "\u001b[K     |████████████████████████████████| 51kB 6.1MB/s \n",
            "\u001b[K     |████████████████████████████████| 51kB 6.4MB/s \n",
            "\u001b[K     |████████████████████████████████| 194kB 22.8MB/s \n",
            "\u001b[K     |████████████████████████████████| 51kB 6.4MB/s \n",
            "\u001b[K     |████████████████████████████████| 92kB 7.5MB/s \n",
            "\u001b[K     |████████████████████████████████| 40kB 5.8MB/s \n",
            "\u001b[K     |████████████████████████████████| 51kB 6.7MB/s \n",
            "\u001b[K     |████████████████████████████████| 61kB 8.0MB/s \n",
            "\u001b[K     |████████████████████████████████| 2.6MB 21.7MB/s \n",
            "\u001b[?25h\n",
            "Usage:   \n",
            "  pip3 install [options] <requirement specifier> [package-index-options] ...\n",
            "  pip3 install [options] -r <requirements file> [package-index-options] ...\n",
            "  pip3 install [options] [-e] <vcs project url> ...\n",
            "  pip3 install [options] [-e] <local project path> ...\n",
            "  pip3 install [options] <archive url/path> ...\n",
            "\n",
            "no such option: --use-feature\n",
            "Mounted at /content/gdrive\n"
          ],
          "name": "stdout"
        }
      ]
    },
    {
      "cell_type": "code",
      "metadata": {
        "id": "XZWJJv97xZM4",
        "outputId": "2050079c-df95-4fd4-ad77-4e422fce31be",
        "colab": {
          "base_uri": "https://localhost:8080/"
        }
      },
      "source": [
        "from google.colab import drive\n",
        "drive.mount('/content/gdrive', force_remount=True)\n",
        "root_dir = '/content/gdrive/My Drive/Colab Notebooks/starters_alternators/train'\n",
        "base_dir = root_dir + 'train'"
      ],
      "execution_count": 3,
      "outputs": [
        {
          "output_type": "stream",
          "text": [
            "Mounted at /content/gdrive\n"
          ],
          "name": "stdout"
        }
      ]
    },
    {
      "cell_type": "code",
      "metadata": {
        "id": "kW1Ga12dw2Nc"
      },
      "source": [
        "from fastai.vision.all import *\n",
        "from fastai.vision.widgets import *"
      ],
      "execution_count": 32,
      "outputs": []
    },
    {
      "cell_type": "code",
      "metadata": {
        "id": "jCrWzVqSwDyG"
      },
      "source": [
        "!pip install ipywidgets\n",
        "\n",
        "from ipywidgets import *"
      ],
      "execution_count": null,
      "outputs": []
    },
    {
      "cell_type": "code",
      "metadata": {
        "id": "_kdn1ES6zsc7"
      },
      "source": [
        "path = Path()\n",
        "learn_inf = load_learner(path/'/content/gdrive/My Drive/Colab Notebooks/export.pkl', cpu=True)\n",
        "btn_upload = widgets.FileUpload()\n",
        "out_pl = widgets.Output()\n",
        "lbl_pred = widgets.Label()\n",
        "\n"
      ],
      "execution_count": 48,
      "outputs": []
    },
    {
      "cell_type": "code",
      "metadata": {
        "id": "iIreLtbim0C5"
      },
      "source": [
        "def on_click_classify(change):\n",
        "    img = PILImage.create(btn_upload.data[-1])\n",
        "    out_pl.clear_output()\n",
        "    with out_pl: display(img.to_thumb(128,128))\n",
        "    pred,pred_idx,probs = learn_inf.predict(img)\n",
        "    lbl_pred.value = f'Prediction: {pred}; Probability: {probs[pred_idx]:.04f}'\n",
        "\n",
        "btn_run.on_click(on_click_classify)"
      ],
      "execution_count": 49,
      "outputs": []
    },
    {
      "cell_type": "code",
      "metadata": {
        "id": "KVR6Y0Lf0uVq",
        "outputId": "8ec3e2af-625c-4ec0-a833-132a97d092d1",
        "colab": {
          "base_uri": "https://localhost:8080/",
          "height": 241,
          "referenced_widgets": [
            "ba3ff9c41c754e7baad0af0e235b2c7b",
            "dbcc8cd2385d4fd795d504b92d838b6d",
            "b7c61c895a5c497994eda178ec63f40b",
            "b4db14120ca44dc88b6bf24bd214dd0f",
            "1a81ef2bea99491d9f1e5be6eea538ff",
            "f2a1d21a12bd4304af0a398aebca8cd2",
            "ddd486b9d7a2497e93e07860b0b7d655",
            "0bae0be2ff704dbe923cdb4752c05d3e",
            "82e29d1e8da14ef6b686bad8435187fd",
            "7291f557601146ad919f6ab41e27617f",
            "090396c48c794190b41d74c6c25fb52d",
            "8a10e5224d3148dca82f46ca311ca609",
            "4ba5a0096c5c4b489e4e310f6b49977a"
          ]
        }
      },
      "source": [
        "display(VBox([widgets.Label('Check if it is starter!'), btn_upload, out_pl, lbl_pred]))\n"
      ],
      "execution_count": 50,
      "outputs": [
        {
          "output_type": "display_data",
          "data": {
            "application/vnd.jupyter.widget-view+json": {
              "model_id": "ba3ff9c41c754e7baad0af0e235b2c7b",
              "version_minor": 0,
              "version_major": 2
            },
            "text/plain": [
              "VBox(children=(Label(value='Check if it is starter!'), FileUpload(value={}, description='Upload'), Output(), L…"
            ]
          },
          "metadata": {
            "tags": []
          }
        }
      ]
    },
    {
      "cell_type": "code",
      "metadata": {
        "id": "KOp3ndJmAYsA",
        "outputId": "4d9fa75b-b311-41ed-b5f1-819335b4031b",
        "colab": {
          "base_uri": "https://localhost:8080/",
          "height": 49,
          "referenced_widgets": [
            "8b8947b126264717afda364726a53da6",
            "e659ab5f068d4113b8ca3956fb1104fc",
            "5c1172d6181946cf8d587276dd7c813c"
          ]
        }
      },
      "source": [
        "btn_run = widgets.Button(description='Classify')\n",
        "btn_run"
      ],
      "execution_count": 43,
      "outputs": [
        {
          "output_type": "display_data",
          "data": {
            "application/vnd.jupyter.widget-view+json": {
              "model_id": "8b8947b126264717afda364726a53da6",
              "version_minor": 0,
              "version_major": 2
            },
            "text/plain": [
              "Button(description='Classify', style=ButtonStyle())"
            ]
          },
          "metadata": {
            "tags": []
          }
        },
        {
          "output_type": "display_data",
          "data": {
            "text/html": [
              ""
            ],
            "text/plain": [
              "<IPython.core.display.HTML object>"
            ]
          },
          "metadata": {
            "tags": []
          }
        },
        {
          "output_type": "display_data",
          "data": {
            "text/html": [
              ""
            ],
            "text/plain": [
              "<IPython.core.display.HTML object>"
            ]
          },
          "metadata": {
            "tags": []
          }
        },
        {
          "output_type": "display_data",
          "data": {
            "text/html": [
              ""
            ],
            "text/plain": [
              "<IPython.core.display.HTML object>"
            ]
          },
          "metadata": {
            "tags": []
          }
        },
        {
          "output_type": "display_data",
          "data": {
            "text/html": [
              ""
            ],
            "text/plain": [
              "<IPython.core.display.HTML object>"
            ]
          },
          "metadata": {
            "tags": []
          }
        },
        {
          "output_type": "display_data",
          "data": {
            "text/html": [
              ""
            ],
            "text/plain": [
              "<IPython.core.display.HTML object>"
            ]
          },
          "metadata": {
            "tags": []
          }
        },
        {
          "output_type": "display_data",
          "data": {
            "text/html": [
              ""
            ],
            "text/plain": [
              "<IPython.core.display.HTML object>"
            ]
          },
          "metadata": {
            "tags": []
          }
        },
        {
          "output_type": "display_data",
          "data": {
            "text/html": [
              ""
            ],
            "text/plain": [
              "<IPython.core.display.HTML object>"
            ]
          },
          "metadata": {
            "tags": []
          }
        },
        {
          "output_type": "display_data",
          "data": {
            "text/html": [
              ""
            ],
            "text/plain": [
              "<IPython.core.display.HTML object>"
            ]
          },
          "metadata": {
            "tags": []
          }
        }
      ]
    },
    {
      "cell_type": "code",
      "metadata": {
        "id": "UwqXFpukuBxT",
        "outputId": "bc90e646-415d-415e-9abd-e65d4e2d5bcd",
        "colab": {
          "base_uri": "https://localhost:8080/"
        }
      },
      "source": [
        "!pip install voila\n",
        "!jupyter serverextension enable voila —user"
      ],
      "execution_count": 52,
      "outputs": [
        {
          "output_type": "stream",
          "text": [
            "Requirement already satisfied: voila in /usr/local/lib/python3.6/dist-packages (0.2.4)\n",
            "Requirement already satisfied: jupyter-server<2.0.0,>=0.3.0 in /usr/local/lib/python3.6/dist-packages (from voila) (1.0.5)\n",
            "Requirement already satisfied: nbclient<0.6,>=0.4.0 in /usr/local/lib/python3.6/dist-packages (from voila) (0.5.1)\n",
            "Requirement already satisfied: nbconvert<7,>=6.0.0 in /usr/local/lib/python3.6/dist-packages (from voila) (6.0.7)\n",
            "Requirement already satisfied: jupyter-client<7,>=6.1.3 in /usr/local/lib/python3.6/dist-packages (from voila) (6.1.7)\n",
            "Requirement already satisfied: tornado>=5.0 in /usr/local/lib/python3.6/dist-packages (from jupyter-server<2.0.0,>=0.3.0->voila) (5.1.1)\n",
            "Requirement already satisfied: pyzmq>=17 in /usr/local/lib/python3.6/dist-packages (from jupyter-server<2.0.0,>=0.3.0->voila) (19.0.2)\n",
            "Requirement already satisfied: traitlets>=4.2.1 in /usr/local/lib/python3.6/dist-packages (from jupyter-server<2.0.0,>=0.3.0->voila) (4.3.3)\n",
            "Requirement already satisfied: jupyter-core>=4.4.0 in /usr/local/lib/python3.6/dist-packages (from jupyter-server<2.0.0,>=0.3.0->voila) (4.6.3)\n",
            "Requirement already satisfied: nbformat in /usr/local/lib/python3.6/dist-packages (from jupyter-server<2.0.0,>=0.3.0->voila) (5.0.8)\n",
            "Requirement already satisfied: terminado>=0.8.3 in /usr/local/lib/python3.6/dist-packages (from jupyter-server<2.0.0,>=0.3.0->voila) (0.9.1)\n",
            "Requirement already satisfied: Send2Trash in /usr/local/lib/python3.6/dist-packages (from jupyter-server<2.0.0,>=0.3.0->voila) (1.5.0)\n",
            "Requirement already satisfied: ipython-genutils in /usr/local/lib/python3.6/dist-packages (from jupyter-server<2.0.0,>=0.3.0->voila) (0.2.0)\n",
            "Requirement already satisfied: prometheus-client in /usr/local/lib/python3.6/dist-packages (from jupyter-server<2.0.0,>=0.3.0->voila) (0.8.0)\n",
            "Requirement already satisfied: jinja2 in /usr/local/lib/python3.6/dist-packages (from jupyter-server<2.0.0,>=0.3.0->voila) (2.11.2)\n",
            "Requirement already satisfied: async-generator in /usr/local/lib/python3.6/dist-packages (from nbclient<0.6,>=0.4.0->voila) (1.10)\n",
            "Requirement already satisfied: nest-asyncio in /usr/local/lib/python3.6/dist-packages (from nbclient<0.6,>=0.4.0->voila) (1.4.2)\n",
            "Requirement already satisfied: entrypoints>=0.2.2 in /usr/local/lib/python3.6/dist-packages (from nbconvert<7,>=6.0.0->voila) (0.3)\n",
            "Requirement already satisfied: pygments>=2.4.1 in /usr/local/lib/python3.6/dist-packages (from nbconvert<7,>=6.0.0->voila) (2.6.1)\n",
            "Requirement already satisfied: pandocfilters>=1.4.1 in /usr/local/lib/python3.6/dist-packages (from nbconvert<7,>=6.0.0->voila) (1.4.3)\n",
            "Requirement already satisfied: mistune<2,>=0.8.1 in /usr/local/lib/python3.6/dist-packages (from nbconvert<7,>=6.0.0->voila) (0.8.4)\n",
            "Requirement already satisfied: defusedxml in /usr/local/lib/python3.6/dist-packages (from nbconvert<7,>=6.0.0->voila) (0.6.0)\n",
            "Requirement already satisfied: jupyterlab-pygments in /usr/local/lib/python3.6/dist-packages (from nbconvert<7,>=6.0.0->voila) (0.1.2)\n",
            "Requirement already satisfied: testpath in /usr/local/lib/python3.6/dist-packages (from nbconvert<7,>=6.0.0->voila) (0.4.4)\n",
            "Requirement already satisfied: bleach in /usr/local/lib/python3.6/dist-packages (from nbconvert<7,>=6.0.0->voila) (3.2.1)\n",
            "Requirement already satisfied: python-dateutil>=2.1 in /usr/local/lib/python3.6/dist-packages (from jupyter-client<7,>=6.1.3->voila) (2.8.1)\n",
            "Requirement already satisfied: decorator in /usr/local/lib/python3.6/dist-packages (from traitlets>=4.2.1->jupyter-server<2.0.0,>=0.3.0->voila) (4.4.2)\n",
            "Requirement already satisfied: six in /usr/local/lib/python3.6/dist-packages (from traitlets>=4.2.1->jupyter-server<2.0.0,>=0.3.0->voila) (1.15.0)\n",
            "Requirement already satisfied: jsonschema!=2.5.0,>=2.4 in /usr/local/lib/python3.6/dist-packages (from nbformat->jupyter-server<2.0.0,>=0.3.0->voila) (2.6.0)\n",
            "Requirement already satisfied: ptyprocess; os_name != \"nt\" in /usr/local/lib/python3.6/dist-packages (from terminado>=0.8.3->jupyter-server<2.0.0,>=0.3.0->voila) (0.6.0)\n",
            "Requirement already satisfied: MarkupSafe>=0.23 in /usr/local/lib/python3.6/dist-packages (from jinja2->jupyter-server<2.0.0,>=0.3.0->voila) (1.1.1)\n",
            "Requirement already satisfied: webencodings in /usr/local/lib/python3.6/dist-packages (from bleach->nbconvert<7,>=6.0.0->voila) (0.5.1)\n",
            "Requirement already satisfied: packaging in /usr/local/lib/python3.6/dist-packages (from bleach->nbconvert<7,>=6.0.0->voila) (20.4)\n",
            "Requirement already satisfied: pyparsing>=2.0.2 in /usr/local/lib/python3.6/dist-packages (from packaging->bleach->nbconvert<7,>=6.0.0->voila) (2.4.7)\n",
            "Enabling: voila\n",
            "- Writing config: /root/.jupyter\n",
            "    - Validating...\n",
            "Error loading server extension voila\n",
            "     \u001b[31m X\u001b[0m is voila importable?\n",
            "Enabling: —user\n",
            "- Writing config: /root/.jupyter\n",
            "    - Validating...\n",
            "Error loading server extension —user\n",
            "     \u001b[31m X\u001b[0m is —user importable?\n"
          ],
          "name": "stdout"
        }
      ]
    },
    {
      "cell_type": "code",
      "metadata": {
        "id": "YEHris27x4yy"
      },
      "source": [
        ""
      ],
      "execution_count": null,
      "outputs": []
    }
  ]
}