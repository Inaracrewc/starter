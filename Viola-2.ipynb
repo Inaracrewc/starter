{
  "nbformat": 4,
  "nbformat_minor": 0,
  "metadata": {
    "colab": {
      "name": "Viola.ipynb",
      "provenance": []
    },
    "kernelspec": {
      "name": "python3",
      "display_name": "Python 3"
    },
    "widgets": {
      "application/vnd.jupyter.widget-state+json": {
        "8f138738e0354d8bb4fd139626c6ba37": {
          "model_module": "@jupyter-widgets/controls",
          "model_name": "VBoxModel",
          "state": {
            "_view_name": "VBoxView",
            "_dom_classes": [],
            "_model_name": "VBoxModel",
            "_view_module": "@jupyter-widgets/controls",
            "_model_module_version": "1.5.0",
            "_view_count": null,
            "_view_module_version": "1.5.0",
            "box_style": "",
            "layout": "IPY_MODEL_41d718eaa774464f8593a02799671f55",
            "_model_module": "@jupyter-widgets/controls",
            "children": [
              "IPY_MODEL_decb505107254f7e8470bb24d2462dd4",
              "IPY_MODEL_c73aec52297145e9b2ec010a53cef4a5",
              "IPY_MODEL_08642e172b324685b257cdadce1df722",
              "IPY_MODEL_48d457cd617b4b69acb1161152bb6e60"
            ]
          }
        },
        "41d718eaa774464f8593a02799671f55": {
          "model_module": "@jupyter-widgets/base",
          "model_name": "LayoutModel",
          "state": {
            "_view_name": "LayoutView",
            "grid_template_rows": null,
            "right": null,
            "justify_content": null,
            "_view_module": "@jupyter-widgets/base",
            "overflow": null,
            "_model_module_version": "1.2.0",
            "_view_count": null,
            "flex_flow": null,
            "width": null,
            "min_width": null,
            "border": null,
            "align_items": null,
            "bottom": null,
            "_model_module": "@jupyter-widgets/base",
            "top": null,
            "grid_column": null,
            "overflow_y": null,
            "overflow_x": null,
            "grid_auto_flow": null,
            "grid_area": null,
            "grid_template_columns": null,
            "flex": null,
            "_model_name": "LayoutModel",
            "justify_items": null,
            "grid_row": null,
            "max_height": null,
            "align_content": null,
            "visibility": null,
            "align_self": null,
            "height": null,
            "min_height": null,
            "padding": null,
            "grid_auto_rows": null,
            "grid_gap": null,
            "max_width": null,
            "order": null,
            "_view_module_version": "1.2.0",
            "grid_template_areas": null,
            "object_position": null,
            "object_fit": null,
            "grid_auto_columns": null,
            "margin": null,
            "display": null,
            "left": null
          }
        },
        "decb505107254f7e8470bb24d2462dd4": {
          "model_module": "@jupyter-widgets/controls",
          "model_name": "LabelModel",
          "state": {
            "_view_name": "LabelView",
            "style": "IPY_MODEL_fea3f17e31c44607b2335f25a960aad7",
            "_dom_classes": [],
            "description": "",
            "_model_name": "LabelModel",
            "placeholder": "​",
            "_view_module": "@jupyter-widgets/controls",
            "_model_module_version": "1.5.0",
            "value": "Check if it is starter!",
            "_view_count": null,
            "_view_module_version": "1.5.0",
            "description_tooltip": null,
            "_model_module": "@jupyter-widgets/controls",
            "layout": "IPY_MODEL_278976d59fe944e8bda59988ec10b154"
          }
        },
        "c73aec52297145e9b2ec010a53cef4a5": {
          "model_module": "@jupyter-widgets/controls",
          "model_name": "FileUploadModel",
          "state": {
            "_view_name": "FileUploadView",
            "_counter": 1,
            "style": "IPY_MODEL_12b74bec73484cee9ef9ca638d364da0",
            "_dom_classes": [],
            "description": "Upload",
            "multiple": false,
            "_model_name": "FileUploadModel",
            "data": [
              null
            ],
            "button_style": "",
            "_view_module": "@jupyter-widgets/controls",
            "_model_module_version": "1.5.0",
            "accept": "",
            "_view_count": null,
            "disabled": false,
            "_view_module_version": "1.5.0",
            "error": "",
            "description_tooltip": null,
            "metadata": [
              {
                "name": "17_starters.jpg",
                "type": "image/jpeg",
                "size": 412400,
                "lastModified": 1598017962000
              }
            ],
            "_model_module": "@jupyter-widgets/controls",
            "layout": "IPY_MODEL_bfea003b2dd84710adede3341c61148f",
            "icon": "upload"
          }
        },
        "08642e172b324685b257cdadce1df722": {
          "model_module": "@jupyter-widgets/output",
          "model_name": "OutputModel",
          "state": {
            "_view_name": "OutputView",
            "msg_id": "",
            "_dom_classes": [],
            "_model_name": "OutputModel",
            "outputs": [
              {
                "output_type": "display_data",
                "metadata": {
                  "tags": []
                },
                "image/png": "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\n",
                "text/plain": "<PIL.Image.Image image mode=RGB size=128x117 at 0x7F24B8ABEF98>"
              }
            ],
            "_view_module": "@jupyter-widgets/output",
            "_model_module_version": "1.0.0",
            "_view_count": null,
            "_view_module_version": "1.0.0",
            "layout": "IPY_MODEL_0c88988cf7344f60a27450def29ba5a1",
            "_model_module": "@jupyter-widgets/output"
          }
        },
        "48d457cd617b4b69acb1161152bb6e60": {
          "model_module": "@jupyter-widgets/controls",
          "model_name": "LabelModel",
          "state": {
            "_view_name": "LabelView",
            "style": "IPY_MODEL_86e6fda5d28b4c9596c56c9ae75e13c7",
            "_dom_classes": [],
            "description": "",
            "_model_name": "LabelModel",
            "placeholder": "​",
            "_view_module": "@jupyter-widgets/controls",
            "_model_module_version": "1.5.0",
            "value": "Prediction: starters; Probability: 0.9744",
            "_view_count": null,
            "_view_module_version": "1.5.0",
            "description_tooltip": null,
            "_model_module": "@jupyter-widgets/controls",
            "layout": "IPY_MODEL_7cae02955b1e4466af9f30301a08a36a"
          }
        },
        "fea3f17e31c44607b2335f25a960aad7": {
          "model_module": "@jupyter-widgets/controls",
          "model_name": "DescriptionStyleModel",
          "state": {
            "_view_name": "StyleView",
            "_model_name": "DescriptionStyleModel",
            "description_width": "",
            "_view_module": "@jupyter-widgets/base",
            "_model_module_version": "1.5.0",
            "_view_count": null,
            "_view_module_version": "1.2.0",
            "_model_module": "@jupyter-widgets/controls"
          }
        },
        "278976d59fe944e8bda59988ec10b154": {
          "model_module": "@jupyter-widgets/base",
          "model_name": "LayoutModel",
          "state": {
            "_view_name": "LayoutView",
            "grid_template_rows": null,
            "right": null,
            "justify_content": null,
            "_view_module": "@jupyter-widgets/base",
            "overflow": null,
            "_model_module_version": "1.2.0",
            "_view_count": null,
            "flex_flow": null,
            "width": null,
            "min_width": null,
            "border": null,
            "align_items": null,
            "bottom": null,
            "_model_module": "@jupyter-widgets/base",
            "top": null,
            "grid_column": null,
            "overflow_y": null,
            "overflow_x": null,
            "grid_auto_flow": null,
            "grid_area": null,
            "grid_template_columns": null,
            "flex": null,
            "_model_name": "LayoutModel",
            "justify_items": null,
            "grid_row": null,
            "max_height": null,
            "align_content": null,
            "visibility": null,
            "align_self": null,
            "height": null,
            "min_height": null,
            "padding": null,
            "grid_auto_rows": null,
            "grid_gap": null,
            "max_width": null,
            "order": null,
            "_view_module_version": "1.2.0",
            "grid_template_areas": null,
            "object_position": null,
            "object_fit": null,
            "grid_auto_columns": null,
            "margin": null,
            "display": null,
            "left": null
          }
        },
        "12b74bec73484cee9ef9ca638d364da0": {
          "model_module": "@jupyter-widgets/controls",
          "model_name": "ButtonStyleModel",
          "state": {
            "_view_name": "StyleView",
            "_model_name": "ButtonStyleModel",
            "_view_module": "@jupyter-widgets/base",
            "_model_module_version": "1.5.0",
            "_view_count": null,
            "button_color": null,
            "font_weight": "",
            "_view_module_version": "1.2.0",
            "_model_module": "@jupyter-widgets/controls"
          }
        },
        "bfea003b2dd84710adede3341c61148f": {
          "model_module": "@jupyter-widgets/base",
          "model_name": "LayoutModel",
          "state": {
            "_view_name": "LayoutView",
            "grid_template_rows": null,
            "right": null,
            "justify_content": null,
            "_view_module": "@jupyter-widgets/base",
            "overflow": null,
            "_model_module_version": "1.2.0",
            "_view_count": null,
            "flex_flow": null,
            "width": null,
            "min_width": null,
            "border": null,
            "align_items": null,
            "bottom": null,
            "_model_module": "@jupyter-widgets/base",
            "top": null,
            "grid_column": null,
            "overflow_y": null,
            "overflow_x": null,
            "grid_auto_flow": null,
            "grid_area": null,
            "grid_template_columns": null,
            "flex": null,
            "_model_name": "LayoutModel",
            "justify_items": null,
            "grid_row": null,
            "max_height": null,
            "align_content": null,
            "visibility": null,
            "align_self": null,
            "height": null,
            "min_height": null,
            "padding": null,
            "grid_auto_rows": null,
            "grid_gap": null,
            "max_width": null,
            "order": null,
            "_view_module_version": "1.2.0",
            "grid_template_areas": null,
            "object_position": null,
            "object_fit": null,
            "grid_auto_columns": null,
            "margin": null,
            "display": null,
            "left": null
          }
        },
        "86e6fda5d28b4c9596c56c9ae75e13c7": {
          "model_module": "@jupyter-widgets/controls",
          "model_name": "DescriptionStyleModel",
          "state": {
            "_view_name": "StyleView",
            "_model_name": "DescriptionStyleModel",
            "description_width": "",
            "_view_module": "@jupyter-widgets/base",
            "_model_module_version": "1.5.0",
            "_view_count": null,
            "_view_module_version": "1.2.0",
            "_model_module": "@jupyter-widgets/controls"
          }
        },
        "7cae02955b1e4466af9f30301a08a36a": {
          "model_module": "@jupyter-widgets/base",
          "model_name": "LayoutModel",
          "state": {
            "_view_name": "LayoutView",
            "grid_template_rows": null,
            "right": null,
            "justify_content": null,
            "_view_module": "@jupyter-widgets/base",
            "overflow": null,
            "_model_module_version": "1.2.0",
            "_view_count": null,
            "flex_flow": null,
            "width": null,
            "min_width": null,
            "border": null,
            "align_items": null,
            "bottom": null,
            "_model_module": "@jupyter-widgets/base",
            "top": null,
            "grid_column": null,
            "overflow_y": null,
            "overflow_x": null,
            "grid_auto_flow": null,
            "grid_area": null,
            "grid_template_columns": null,
            "flex": null,
            "_model_name": "LayoutModel",
            "justify_items": null,
            "grid_row": null,
            "max_height": null,
            "align_content": null,
            "visibility": null,
            "align_self": null,
            "height": null,
            "min_height": null,
            "padding": null,
            "grid_auto_rows": null,
            "grid_gap": null,
            "max_width": null,
            "order": null,
            "_view_module_version": "1.2.0",
            "grid_template_areas": null,
            "object_position": null,
            "object_fit": null,
            "grid_auto_columns": null,
            "margin": null,
            "display": null,
            "left": null
          }
        },
        "0c88988cf7344f60a27450def29ba5a1": {
          "model_module": "@jupyter-widgets/base",
          "model_name": "LayoutModel",
          "state": {
            "_view_name": "LayoutView",
            "grid_template_rows": null,
            "right": null,
            "justify_content": null,
            "_view_module": "@jupyter-widgets/base",
            "overflow": null,
            "_model_module_version": "1.2.0",
            "_view_count": null,
            "flex_flow": null,
            "width": null,
            "min_width": null,
            "border": null,
            "align_items": null,
            "bottom": null,
            "_model_module": "@jupyter-widgets/base",
            "top": null,
            "grid_column": null,
            "overflow_y": null,
            "overflow_x": null,
            "grid_auto_flow": null,
            "grid_area": null,
            "grid_template_columns": null,
            "flex": null,
            "_model_name": "LayoutModel",
            "justify_items": null,
            "grid_row": null,
            "max_height": null,
            "align_content": null,
            "visibility": null,
            "align_self": null,
            "height": null,
            "min_height": null,
            "padding": null,
            "grid_auto_rows": null,
            "grid_gap": null,
            "max_width": null,
            "order": null,
            "_view_module_version": "1.2.0",
            "grid_template_areas": null,
            "object_position": null,
            "object_fit": null,
            "grid_auto_columns": null,
            "margin": null,
            "display": null,
            "left": null
          }
        },
        "2826c4acdafe4f5fa8cf0abae99c887c": {
          "model_module": "@jupyter-widgets/controls",
          "model_name": "ButtonModel",
          "state": {
            "_view_name": "ButtonView",
            "style": "IPY_MODEL_5fce74a2778f47fd8a85bf8b65a995de",
            "_dom_classes": [],
            "description": "Classify",
            "_model_name": "ButtonModel",
            "button_style": "",
            "_view_module": "@jupyter-widgets/controls",
            "_model_module_version": "1.5.0",
            "tooltip": "",
            "_view_count": null,
            "disabled": false,
            "_view_module_version": "1.5.0",
            "layout": "IPY_MODEL_376c8928ec4840599f7283b596d8487d",
            "_model_module": "@jupyter-widgets/controls",
            "icon": ""
          }
        },
        "5fce74a2778f47fd8a85bf8b65a995de": {
          "model_module": "@jupyter-widgets/controls",
          "model_name": "ButtonStyleModel",
          "state": {
            "_view_name": "StyleView",
            "_model_name": "ButtonStyleModel",
            "_view_module": "@jupyter-widgets/base",
            "_model_module_version": "1.5.0",
            "_view_count": null,
            "button_color": null,
            "font_weight": "",
            "_view_module_version": "1.2.0",
            "_model_module": "@jupyter-widgets/controls"
          }
        },
        "376c8928ec4840599f7283b596d8487d": {
          "model_module": "@jupyter-widgets/base",
          "model_name": "LayoutModel",
          "state": {
            "_view_name": "LayoutView",
            "grid_template_rows": null,
            "right": null,
            "justify_content": null,
            "_view_module": "@jupyter-widgets/base",
            "overflow": null,
            "_model_module_version": "1.2.0",
            "_view_count": null,
            "flex_flow": null,
            "width": null,
            "min_width": null,
            "border": null,
            "align_items": null,
            "bottom": null,
            "_model_module": "@jupyter-widgets/base",
            "top": null,
            "grid_column": null,
            "overflow_y": null,
            "overflow_x": null,
            "grid_auto_flow": null,
            "grid_area": null,
            "grid_template_columns": null,
            "flex": null,
            "_model_name": "LayoutModel",
            "justify_items": null,
            "grid_row": null,
            "max_height": null,
            "align_content": null,
            "visibility": null,
            "align_self": null,
            "height": null,
            "min_height": null,
            "padding": null,
            "grid_auto_rows": null,
            "grid_gap": null,
            "max_width": null,
            "order": null,
            "_view_module_version": "1.2.0",
            "grid_template_areas": null,
            "object_position": null,
            "object_fit": null,
            "grid_auto_columns": null,
            "margin": null,
            "display": null,
            "left": null
          }
        }
      }
    }
  },
  "cells": [
    {
      "cell_type": "code",
      "metadata": {
        "id": "fFGh7P4ryk8C",
        "outputId": "9b694c31-447b-45c0-bc98-691c4797fd3d",
        "colab": {
          "base_uri": "https://localhost:8080/"
        }
      },
      "source": [
        "!pip install -Uqq fastbook\n",
        "!pip install fastai --upgrade --use-feature=2020-resolver\n",
        "import fastbook\n",
        "fastbook.setup_book() "
      ],
      "execution_count": 2,
      "outputs": [
        {
          "output_type": "stream",
          "text": [
            "\u001b[K     |████████████████████████████████| 727kB 5.6MB/s \n",
            "\u001b[K     |████████████████████████████████| 1.1MB 18.5MB/s \n",
            "\u001b[K     |████████████████████████████████| 51kB 6.1MB/s \n",
            "\u001b[K     |████████████████████████████████| 51kB 6.4MB/s \n",
            "\u001b[K     |████████████████████████████████| 194kB 22.8MB/s \n",
            "\u001b[K     |████████████████████████████████| 51kB 6.4MB/s \n",
            "\u001b[K     |████████████████████████████████| 92kB 7.5MB/s \n",
            "\u001b[K     |████████████████████████████████| 40kB 5.8MB/s \n",
            "\u001b[K     |████████████████████████████████| 51kB 6.7MB/s \n",
            "\u001b[K     |████████████████████████████████| 61kB 8.0MB/s \n",
            "\u001b[K     |████████████████████████████████| 2.6MB 21.7MB/s \n",
            "\u001b[?25h\n",
            "Usage:   \n",
            "  pip3 install [options] <requirement specifier> [package-index-options] ...\n",
            "  pip3 install [options] -r <requirements file> [package-index-options] ...\n",
            "  pip3 install [options] [-e] <vcs project url> ...\n",
            "  pip3 install [options] [-e] <local project path> ...\n",
            "  pip3 install [options] <archive url/path> ...\n",
            "\n",
            "no such option: --use-feature\n",
            "Mounted at /content/gdrive\n"
          ],
          "name": "stdout"
        }
      ]
    },
    {
      "cell_type": "code",
      "metadata": {
        "id": "XZWJJv97xZM4",
        "outputId": "2050079c-df95-4fd4-ad77-4e422fce31be",
        "colab": {
          "base_uri": "https://localhost:8080/"
        }
      },
      "source": [
        "from google.colab import drive\n",
        "drive.mount('/content/gdrive', force_remount=True)\n",
        "root_dir = '/content/gdrive/My Drive/Colab Notebooks/starters_alternators/train'\n",
        "base_dir = root_dir + 'train'"
      ],
      "execution_count": 3,
      "outputs": [
        {
          "output_type": "stream",
          "text": [
            "Mounted at /content/gdrive\n"
          ],
          "name": "stdout"
        }
      ]
    },
    {
      "cell_type": "code",
      "metadata": {
        "id": "kW1Ga12dw2Nc"
      },
      "source": [
        "from fastai.vision.all import *\n",
        "from fastai.vision.widgets import *"
      ],
      "execution_count": 4,
      "outputs": []
    },
    {
      "cell_type": "code",
      "metadata": {
        "id": "jCrWzVqSwDyG"
      },
      "source": [
        "!pip install ipywidgets\n",
        "\n",
        "from ipywidgets import *"
      ],
      "execution_count": null,
      "outputs": []
    },
    {
      "cell_type": "code",
      "metadata": {
        "id": "_kdn1ES6zsc7"
      },
      "source": [
        "path = Path()\n",
        "learn_inf = load_learner(path/'/content/gdrive/My Drive/Colab Notebooks/export.pkl', cpu=True)\n",
        "btn_upload = widgets.FileUpload()\n",
        "out_pl = widgets.Output()\n",
        "lbl_pred = widgets.Label()\n",
        "\n"
      ],
      "execution_count": null,
      "outputs": []
    },
    {
      "cell_type": "code",
      "metadata": {
        "id": "iIreLtbim0C5"
      },
      "source": [
        "def on_click_classify(change):\n",
        "    img = PILImage.create(btn_upload.data[-1])\n",
        "    out_pl.clear_output()\n",
        "    with out_pl: display(img.to_thumb(128,128))\n",
        "    pred,pred_idx,probs = learn_inf.predict(img)\n",
        "    lbl_pred.value = f'Prediction: {pred}; Probability: {probs[pred_idx]:.04f}'\n",
        "\n",
        "btn_run.on_click(on_click_classify)"
      ],
      "execution_count": 23,
      "outputs": []
    },
    {
      "cell_type": "code",
      "metadata": {
        "id": "nH3zaq3yxWRe"
      },
      "source": [
        "!pip install voila\n",
        "!jupyter serverextension enable voila —sys-prefix"
      ],
      "execution_count": null,
      "outputs": []
    },
    {
      "cell_type": "code",
      "metadata": {
        "id": "KVR6Y0Lf0uVq",
        "outputId": "31ccad55-cf29-4062-e0fe-68bed3772af3",
        "colab": {
          "base_uri": "https://localhost:8080/",
          "height": 262,
          "referenced_widgets": [
            "8f138738e0354d8bb4fd139626c6ba37",
            "41d718eaa774464f8593a02799671f55",
            "decb505107254f7e8470bb24d2462dd4",
            "c73aec52297145e9b2ec010a53cef4a5",
            "08642e172b324685b257cdadce1df722",
            "48d457cd617b4b69acb1161152bb6e60",
            "fea3f17e31c44607b2335f25a960aad7",
            "278976d59fe944e8bda59988ec10b154",
            "12b74bec73484cee9ef9ca638d364da0",
            "bfea003b2dd84710adede3341c61148f",
            "86e6fda5d28b4c9596c56c9ae75e13c7",
            "7cae02955b1e4466af9f30301a08a36a",
            "0c88988cf7344f60a27450def29ba5a1",
            "2826c4acdafe4f5fa8cf0abae99c887c",
            "5fce74a2778f47fd8a85bf8b65a995de",
            "376c8928ec4840599f7283b596d8487d"
          ]
        }
      },
      "source": [
        "display(VBox([widgets.Label('Check if it is starter!'), btn_upload, out_pl, lbl_pred]))\n",
        "btn_run = widgets.Button(description='Classify')\n",
        "btn_run"
      ],
      "execution_count": 24,
      "outputs": [
        {
          "output_type": "display_data",
          "data": {
            "application/vnd.jupyter.widget-view+json": {
              "model_id": "8f138738e0354d8bb4fd139626c6ba37",
              "version_minor": 0,
              "version_major": 2
            },
            "text/plain": [
              "VBox(children=(Label(value='Check if it is starter!'), FileUpload(value={'17_starters.jpg': {'metadata': {'las…"
            ]
          },
          "metadata": {
            "tags": []
          }
        },
        {
          "output_type": "display_data",
          "data": {
            "application/vnd.jupyter.widget-view+json": {
              "model_id": "2826c4acdafe4f5fa8cf0abae99c887c",
              "version_minor": 0,
              "version_major": 2
            },
            "text/plain": [
              "Button(description='Classify', style=ButtonStyle())"
            ]
          },
          "metadata": {
            "tags": []
          }
        }
      ]
    }
  ]
}