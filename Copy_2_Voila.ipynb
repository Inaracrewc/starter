{
  "nbformat": 4,
  "nbformat_minor": 0,
  "metadata": {
    "colab": {
      "name": "Copy 2 Voila.ipynb",
      "provenance": [],
      "collapsed_sections": []
    },
    "kernelspec": {
      "name": "python3",
      "display_name": "Python 3"
    },
    "widgets": {
      "application/vnd.jupyter.widget-state+json": {
        "c0c7f131ed5a4e649c2bf8a96e5d4513": {
          "model_module": "@jupyter-widgets/controls",
          "model_name": "VBoxModel",
          "state": {
            "_view_name": "VBoxView",
            "_dom_classes": [],
            "_model_name": "VBoxModel",
            "_view_module": "@jupyter-widgets/controls",
            "_model_module_version": "1.5.0",
            "_view_count": null,
            "_view_module_version": "1.5.0",
            "box_style": "",
            "layout": "IPY_MODEL_d33da99c200d4017b410f0b9db828a85",
            "_model_module": "@jupyter-widgets/controls",
            "children": [
              "IPY_MODEL_f022c88092fa4d9f8a2e1e4d2081fcf5",
              "IPY_MODEL_eaec52904e1d49c287cdb7460e4923c8",
              "IPY_MODEL_a0856bf0118948bfb72d5260233a8940",
              "IPY_MODEL_c8eab2816cb84b12ba1fd0841691a863"
            ]
          }
        },
        "d33da99c200d4017b410f0b9db828a85": {
          "model_module": "@jupyter-widgets/base",
          "model_name": "LayoutModel",
          "state": {
            "_view_name": "LayoutView",
            "grid_template_rows": null,
            "right": null,
            "justify_content": null,
            "_view_module": "@jupyter-widgets/base",
            "overflow": null,
            "_model_module_version": "1.2.0",
            "_view_count": null,
            "flex_flow": null,
            "width": null,
            "min_width": null,
            "border": null,
            "align_items": null,
            "bottom": null,
            "_model_module": "@jupyter-widgets/base",
            "top": null,
            "grid_column": null,
            "overflow_y": null,
            "overflow_x": null,
            "grid_auto_flow": null,
            "grid_area": null,
            "grid_template_columns": null,
            "flex": null,
            "_model_name": "LayoutModel",
            "justify_items": null,
            "grid_row": null,
            "max_height": null,
            "align_content": null,
            "visibility": null,
            "align_self": null,
            "height": null,
            "min_height": null,
            "padding": null,
            "grid_auto_rows": null,
            "grid_gap": null,
            "max_width": null,
            "order": null,
            "_view_module_version": "1.2.0",
            "grid_template_areas": null,
            "object_position": null,
            "object_fit": null,
            "grid_auto_columns": null,
            "margin": null,
            "display": null,
            "left": null
          }
        },
        "f022c88092fa4d9f8a2e1e4d2081fcf5": {
          "model_module": "@jupyter-widgets/controls",
          "model_name": "LabelModel",
          "state": {
            "_view_name": "LabelView",
            "style": "IPY_MODEL_ec7e02c7c77540dd93abd6bcec453326",
            "_dom_classes": [],
            "description": "",
            "_model_name": "LabelModel",
            "placeholder": "​",
            "_view_module": "@jupyter-widgets/controls",
            "_model_module_version": "1.5.0",
            "value": "Check if it is starter!",
            "_view_count": null,
            "_view_module_version": "1.5.0",
            "description_tooltip": null,
            "_model_module": "@jupyter-widgets/controls",
            "layout": "IPY_MODEL_e07bf1cfcf1e48a98f2c1f8059c1afd8"
          }
        },
        "eaec52904e1d49c287cdb7460e4923c8": {
          "model_module": "@jupyter-widgets/controls",
          "model_name": "FileUploadModel",
          "state": {
            "_view_name": "FileUploadView",
            "_counter": 1,
            "style": "IPY_MODEL_02170f2024c14f3caedbabff769c954c",
            "_dom_classes": [],
            "description": "Upload",
            "multiple": false,
            "_model_name": "FileUploadModel",
            "data": [
              null
            ],
            "button_style": "",
            "_view_module": "@jupyter-widgets/controls",
            "_model_module_version": "1.5.0",
            "accept": "",
            "_view_count": null,
            "disabled": false,
            "_view_module_version": "1.5.0",
            "error": "",
            "description_tooltip": null,
            "metadata": [
              {
                "name": "19_alternators.jpg",
                "type": "image/jpeg",
                "size": 102137,
                "lastModified": 1597926740000
              }
            ],
            "_model_module": "@jupyter-widgets/controls",
            "layout": "IPY_MODEL_4f2a5205b5584814bf2f3e7dc014cab8",
            "icon": "upload"
          }
        },
        "a0856bf0118948bfb72d5260233a8940": {
          "model_module": "@jupyter-widgets/output",
          "model_name": "OutputModel",
          "state": {
            "_view_name": "OutputView",
            "msg_id": "",
            "_dom_classes": [],
            "_model_name": "OutputModel",
            "outputs": [
              {
                "output_type": "display_data",
                "metadata": {
                  "tags": []
                },
                "image/png": "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\n",
                "text/plain": "<PIL.Image.Image image mode=RGB size=128x122 at 0x7F5BD3E2D710>"
              }
            ],
            "_view_module": "@jupyter-widgets/output",
            "_model_module_version": "1.0.0",
            "_view_count": null,
            "_view_module_version": "1.0.0",
            "layout": "IPY_MODEL_33e53a78401449429acdbc7d3d68a9eb",
            "_model_module": "@jupyter-widgets/output"
          }
        },
        "c8eab2816cb84b12ba1fd0841691a863": {
          "model_module": "@jupyter-widgets/controls",
          "model_name": "LabelModel",
          "state": {
            "_view_name": "LabelView",
            "style": "IPY_MODEL_80a17df545154506b773eac5fb7476ca",
            "_dom_classes": [],
            "description": "",
            "_model_name": "LabelModel",
            "placeholder": "​",
            "_view_module": "@jupyter-widgets/controls",
            "_model_module_version": "1.5.0",
            "value": "Prediction: alternators; Probability: 0.9852",
            "_view_count": null,
            "_view_module_version": "1.5.0",
            "description_tooltip": null,
            "_model_module": "@jupyter-widgets/controls",
            "layout": "IPY_MODEL_b1fd8b5e3670430cbda434f97edff5c5"
          }
        },
        "ec7e02c7c77540dd93abd6bcec453326": {
          "model_module": "@jupyter-widgets/controls",
          "model_name": "DescriptionStyleModel",
          "state": {
            "_view_name": "StyleView",
            "_model_name": "DescriptionStyleModel",
            "description_width": "",
            "_view_module": "@jupyter-widgets/base",
            "_model_module_version": "1.5.0",
            "_view_count": null,
            "_view_module_version": "1.2.0",
            "_model_module": "@jupyter-widgets/controls"
          }
        },
        "e07bf1cfcf1e48a98f2c1f8059c1afd8": {
          "model_module": "@jupyter-widgets/base",
          "model_name": "LayoutModel",
          "state": {
            "_view_name": "LayoutView",
            "grid_template_rows": null,
            "right": null,
            "justify_content": null,
            "_view_module": "@jupyter-widgets/base",
            "overflow": null,
            "_model_module_version": "1.2.0",
            "_view_count": null,
            "flex_flow": null,
            "width": null,
            "min_width": null,
            "border": null,
            "align_items": null,
            "bottom": null,
            "_model_module": "@jupyter-widgets/base",
            "top": null,
            "grid_column": null,
            "overflow_y": null,
            "overflow_x": null,
            "grid_auto_flow": null,
            "grid_area": null,
            "grid_template_columns": null,
            "flex": null,
            "_model_name": "LayoutModel",
            "justify_items": null,
            "grid_row": null,
            "max_height": null,
            "align_content": null,
            "visibility": null,
            "align_self": null,
            "height": null,
            "min_height": null,
            "padding": null,
            "grid_auto_rows": null,
            "grid_gap": null,
            "max_width": null,
            "order": null,
            "_view_module_version": "1.2.0",
            "grid_template_areas": null,
            "object_position": null,
            "object_fit": null,
            "grid_auto_columns": null,
            "margin": null,
            "display": null,
            "left": null
          }
        },
        "02170f2024c14f3caedbabff769c954c": {
          "model_module": "@jupyter-widgets/controls",
          "model_name": "ButtonStyleModel",
          "state": {
            "_view_name": "StyleView",
            "_model_name": "ButtonStyleModel",
            "_view_module": "@jupyter-widgets/base",
            "_model_module_version": "1.5.0",
            "_view_count": null,
            "button_color": null,
            "font_weight": "",
            "_view_module_version": "1.2.0",
            "_model_module": "@jupyter-widgets/controls"
          }
        },
        "4f2a5205b5584814bf2f3e7dc014cab8": {
          "model_module": "@jupyter-widgets/base",
          "model_name": "LayoutModel",
          "state": {
            "_view_name": "LayoutView",
            "grid_template_rows": null,
            "right": null,
            "justify_content": null,
            "_view_module": "@jupyter-widgets/base",
            "overflow": null,
            "_model_module_version": "1.2.0",
            "_view_count": null,
            "flex_flow": null,
            "width": null,
            "min_width": null,
            "border": null,
            "align_items": null,
            "bottom": null,
            "_model_module": "@jupyter-widgets/base",
            "top": null,
            "grid_column": null,
            "overflow_y": null,
            "overflow_x": null,
            "grid_auto_flow": null,
            "grid_area": null,
            "grid_template_columns": null,
            "flex": null,
            "_model_name": "LayoutModel",
            "justify_items": null,
            "grid_row": null,
            "max_height": null,
            "align_content": null,
            "visibility": null,
            "align_self": null,
            "height": null,
            "min_height": null,
            "padding": null,
            "grid_auto_rows": null,
            "grid_gap": null,
            "max_width": null,
            "order": null,
            "_view_module_version": "1.2.0",
            "grid_template_areas": null,
            "object_position": null,
            "object_fit": null,
            "grid_auto_columns": null,
            "margin": null,
            "display": null,
            "left": null
          }
        },
        "80a17df545154506b773eac5fb7476ca": {
          "model_module": "@jupyter-widgets/controls",
          "model_name": "DescriptionStyleModel",
          "state": {
            "_view_name": "StyleView",
            "_model_name": "DescriptionStyleModel",
            "description_width": "",
            "_view_module": "@jupyter-widgets/base",
            "_model_module_version": "1.5.0",
            "_view_count": null,
            "_view_module_version": "1.2.0",
            "_model_module": "@jupyter-widgets/controls"
          }
        },
        "b1fd8b5e3670430cbda434f97edff5c5": {
          "model_module": "@jupyter-widgets/base",
          "model_name": "LayoutModel",
          "state": {
            "_view_name": "LayoutView",
            "grid_template_rows": null,
            "right": null,
            "justify_content": null,
            "_view_module": "@jupyter-widgets/base",
            "overflow": null,
            "_model_module_version": "1.2.0",
            "_view_count": null,
            "flex_flow": null,
            "width": null,
            "min_width": null,
            "border": null,
            "align_items": null,
            "bottom": null,
            "_model_module": "@jupyter-widgets/base",
            "top": null,
            "grid_column": null,
            "overflow_y": null,
            "overflow_x": null,
            "grid_auto_flow": null,
            "grid_area": null,
            "grid_template_columns": null,
            "flex": null,
            "_model_name": "LayoutModel",
            "justify_items": null,
            "grid_row": null,
            "max_height": null,
            "align_content": null,
            "visibility": null,
            "align_self": null,
            "height": null,
            "min_height": null,
            "padding": null,
            "grid_auto_rows": null,
            "grid_gap": null,
            "max_width": null,
            "order": null,
            "_view_module_version": "1.2.0",
            "grid_template_areas": null,
            "object_position": null,
            "object_fit": null,
            "grid_auto_columns": null,
            "margin": null,
            "display": null,
            "left": null
          }
        },
        "33e53a78401449429acdbc7d3d68a9eb": {
          "model_module": "@jupyter-widgets/base",
          "model_name": "LayoutModel",
          "state": {
            "_view_name": "LayoutView",
            "grid_template_rows": null,
            "right": null,
            "justify_content": null,
            "_view_module": "@jupyter-widgets/base",
            "overflow": null,
            "_model_module_version": "1.2.0",
            "_view_count": null,
            "flex_flow": null,
            "width": null,
            "min_width": null,
            "border": null,
            "align_items": null,
            "bottom": null,
            "_model_module": "@jupyter-widgets/base",
            "top": null,
            "grid_column": null,
            "overflow_y": null,
            "overflow_x": null,
            "grid_auto_flow": null,
            "grid_area": null,
            "grid_template_columns": null,
            "flex": null,
            "_model_name": "LayoutModel",
            "justify_items": null,
            "grid_row": null,
            "max_height": null,
            "align_content": null,
            "visibility": null,
            "align_self": null,
            "height": null,
            "min_height": null,
            "padding": null,
            "grid_auto_rows": null,
            "grid_gap": null,
            "max_width": null,
            "order": null,
            "_view_module_version": "1.2.0",
            "grid_template_areas": null,
            "object_position": null,
            "object_fit": null,
            "grid_auto_columns": null,
            "margin": null,
            "display": null,
            "left": null
          }
        },
        "f9bf8eaf01e74132950575d840317fde": {
          "model_module": "@jupyter-widgets/controls",
          "model_name": "ButtonModel",
          "state": {
            "_view_name": "ButtonView",
            "style": "IPY_MODEL_19cb51e0412943e8b89b2bca899ed758",
            "_dom_classes": [],
            "description": "Classify",
            "_model_name": "ButtonModel",
            "button_style": "",
            "_view_module": "@jupyter-widgets/controls",
            "_model_module_version": "1.5.0",
            "tooltip": "",
            "_view_count": null,
            "disabled": false,
            "_view_module_version": "1.5.0",
            "layout": "IPY_MODEL_90bcd6b189a64c4f800651e45033e212",
            "_model_module": "@jupyter-widgets/controls",
            "icon": ""
          }
        },
        "19cb51e0412943e8b89b2bca899ed758": {
          "model_module": "@jupyter-widgets/controls",
          "model_name": "ButtonStyleModel",
          "state": {
            "_view_name": "StyleView",
            "_model_name": "ButtonStyleModel",
            "_view_module": "@jupyter-widgets/base",
            "_model_module_version": "1.5.0",
            "_view_count": null,
            "button_color": null,
            "font_weight": "",
            "_view_module_version": "1.2.0",
            "_model_module": "@jupyter-widgets/controls"
          }
        },
        "90bcd6b189a64c4f800651e45033e212": {
          "model_module": "@jupyter-widgets/base",
          "model_name": "LayoutModel",
          "state": {
            "_view_name": "LayoutView",
            "grid_template_rows": null,
            "right": null,
            "justify_content": null,
            "_view_module": "@jupyter-widgets/base",
            "overflow": null,
            "_model_module_version": "1.2.0",
            "_view_count": null,
            "flex_flow": null,
            "width": null,
            "min_width": null,
            "border": null,
            "align_items": null,
            "bottom": null,
            "_model_module": "@jupyter-widgets/base",
            "top": null,
            "grid_column": null,
            "overflow_y": null,
            "overflow_x": null,
            "grid_auto_flow": null,
            "grid_area": null,
            "grid_template_columns": null,
            "flex": null,
            "_model_name": "LayoutModel",
            "justify_items": null,
            "grid_row": null,
            "max_height": null,
            "align_content": null,
            "visibility": null,
            "align_self": null,
            "height": null,
            "min_height": null,
            "padding": null,
            "grid_auto_rows": null,
            "grid_gap": null,
            "max_width": null,
            "order": null,
            "_view_module_version": "1.2.0",
            "grid_template_areas": null,
            "object_position": null,
            "object_fit": null,
            "grid_auto_columns": null,
            "margin": null,
            "display": null,
            "left": null
          }
        }
      }
    }
  },
  "cells": [
    {
      "cell_type": "code",
      "metadata": {
        "id": "kW1Ga12dw2Nc"
      },
      "source": [
        "from fastai.vision.all import *\n",
        "from fastai.vision.widgets import *"
      ],
      "execution_count": null,
      "outputs": []
    },
    {
      "cell_type": "code",
      "metadata": {
        "id": "_kdn1ES6zsc7"
      },
      "source": [
        "path = Path()\n",
        "learn_inf = load_learner(path/'/content/gdrive/My Drive/Colab Notebooks/export.pkl', cpu=True)\n",
        "btn_upload = widgets.FileUpload()\n",
        "out_pl = widgets.Output()\n",
        "lbl_pred = widgets.Label()\n",
        "\n"
      ],
      "execution_count": null,
      "outputs": []
    },
    {
      "cell_type": "code",
      "metadata": {
        "id": "iIreLtbim0C5"
      },
      "source": [
        "def on_click_classify(change):\n",
        "    img = PILImage.create(btn_upload.data[-1])\n",
        "    out_pl.clear_output()\n",
        "    with out_pl: display(img.to_thumb(128,128))\n",
        "    pred,pred_idx,probs = learn_inf.predict(img)\n",
        "    lbl_pred.value = f'Prediction: {pred}; Probability: {probs[pred_idx]:.04f}'\n",
        "\n",
        "btn_run.on_click(on_click_classify)"
      ],
      "execution_count": null,
      "outputs": []
    },
    {
      "cell_type": "code",
      "metadata": {
        "id": "KVR6Y0Lf0uVq",
        "outputId": "a4a8d18d-b689-43f4-926d-bac2f19df671",
        "colab": {
          "base_uri": "https://localhost:8080/",
          "height": 235,
          "referenced_widgets": [
            "c0c7f131ed5a4e649c2bf8a96e5d4513",
            "d33da99c200d4017b410f0b9db828a85",
            "f022c88092fa4d9f8a2e1e4d2081fcf5",
            "eaec52904e1d49c287cdb7460e4923c8",
            "a0856bf0118948bfb72d5260233a8940",
            "c8eab2816cb84b12ba1fd0841691a863",
            "ec7e02c7c77540dd93abd6bcec453326",
            "e07bf1cfcf1e48a98f2c1f8059c1afd8",
            "02170f2024c14f3caedbabff769c954c",
            "4f2a5205b5584814bf2f3e7dc014cab8",
            "80a17df545154506b773eac5fb7476ca",
            "b1fd8b5e3670430cbda434f97edff5c5",
            "33e53a78401449429acdbc7d3d68a9eb"
          ]
        }
      },
      "source": [
        "display(VBox([widgets.Label('Check if it is starter!'), btn_upload, out_pl, lbl_pred]))\n"
      ],
      "execution_count": null,
      "outputs": [
        {
          "output_type": "display_data",
          "data": {
            "application/vnd.jupyter.widget-view+json": {
              "model_id": "c0c7f131ed5a4e649c2bf8a96e5d4513",
              "version_minor": 0,
              "version_major": 2
            },
            "text/plain": [
              "VBox(children=(Label(value='Check if it is starter!'), FileUpload(value={}, description='Upload'), Output(), L…"
            ]
          },
          "metadata": {
            "tags": []
          }
        }
      ]
    },
    {
      "cell_type": "code",
      "metadata": {
        "id": "KOp3ndJmAYsA",
        "outputId": "3bc1d65d-2536-4f97-c98f-76fde83171d9",
        "colab": {
          "base_uri": "https://localhost:8080/",
          "height": 49,
          "referenced_widgets": [
            "f9bf8eaf01e74132950575d840317fde",
            "19cb51e0412943e8b89b2bca899ed758",
            "90bcd6b189a64c4f800651e45033e212"
          ]
        }
      },
      "source": [
        "btn_run = widgets.Button(description='Classify')\n",
        "btn_run"
      ],
      "execution_count": null,
      "outputs": [
        {
          "output_type": "display_data",
          "data": {
            "application/vnd.jupyter.widget-view+json": {
              "model_id": "f9bf8eaf01e74132950575d840317fde",
              "version_minor": 0,
              "version_major": 2
            },
            "text/plain": [
              "Button(description='Classify', style=ButtonStyle())"
            ]
          },
          "metadata": {
            "tags": []
          }
        },
        {
          "output_type": "display_data",
          "data": {
            "text/html": [
              ""
            ],
            "text/plain": [
              "<IPython.core.display.HTML object>"
            ]
          },
          "metadata": {
            "tags": []
          }
        }
      ]
    },
    {
      "cell_type": "code",
      "metadata": {
        "id": "guM1KBuzfaPn"
      },
      "source": [
        "!pip install voila\n",
        "!jupyter serverextension enable voila —sys-prefix"
      ],
      "execution_count": null,
      "outputs": []
    }
  ]
}